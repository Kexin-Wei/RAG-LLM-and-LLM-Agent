{
 "cells": [
  {
   "cell_type": "markdown",
   "metadata": {},
   "source": [
    "# LLM with memory"
   ]
  },
  {
   "cell_type": "code",
   "execution_count": 1,
   "metadata": {},
   "outputs": [],
   "source": [
    "%load_ext autoreload\n",
    "%autoreload 2"
   ]
  },
  {
   "cell_type": "code",
   "execution_count": 8,
   "metadata": {},
   "outputs": [],
   "source": [
    "import google.generativeai as genai\n",
    "from dotenv import load_dotenv\n",
    "import os\n",
    "\n",
    "# Load environment variables from .env file\n",
    "load_dotenv()\n",
    "\n",
    "# Access the API key from the environment variable\n",
    "api_key = os.getenv(\"SECRET_KEY\")\n",
    "\n",
    "# Configure the API key for the genai library\n",
    "genai.configure(api_key=api_key)\n",
    "model = genai.GenerativeModel(\n",
    "    \"gemini-1.5-flash\",\n",
    "    generation_config=genai.GenerationConfig(temperature=0.1),\n",
    ")"
   ]
  },
  {
   "cell_type": "code",
   "execution_count": 5,
   "metadata": {},
   "outputs": [],
   "source": [
    "question_1 = \"Why I feel anxious?\"\n",
    "question_2 = \"how should i do?\"\n",
    "question_3 = \"what is self-care?\""
   ]
  },
  {
   "cell_type": "markdown",
   "metadata": {},
   "source": [
    "# My idea"
   ]
  },
  {
   "cell_type": "code",
   "execution_count": 75,
   "metadata": {},
   "outputs": [],
   "source": [
    "def generate_query_given_memory(question: str, memory: list) -> str:\n",
    "    query = (\n",
    "        f\"Given the question: {question}\\n\"\n",
    "        \"please provide a detailed but constructive response within 150 words\"\n",
    "        # \", makes it into a short eassy\"\n",
    "        \", breaks the line when it exceeds 10 words\"\n",
    "        # \", and answer in a friendly and supportive tone.\"\n",
    "    )\n",
    "    if memory == []:\n",
    "        return query\n",
    "    query += \"And based on the following conversation history:\\n\"\n",
    "\n",
    "    for record in memory:\n",
    "        query += f\"Question: {record['question']}\\nAnswer: {record['answer']}\\n\"\n",
    "    return query"
   ]
  },
  {
   "cell_type": "code",
   "execution_count": 53,
   "metadata": {},
   "outputs": [],
   "source": [
    "def send_query_to_model(query: str, model: genai.GenerativeModel) -> str:\n",
    "    response = model.generate_content(query)\n",
    "    return response.text"
   ]
  },
  {
   "cell_type": "code",
   "execution_count": 69,
   "metadata": {},
   "outputs": [],
   "source": [
    "def ask_and_save_to_memory(\n",
    "    question: str, model: genai.GenerativeModel, memory: list\n",
    ") -> str:\n",
    "    \"\"\"\n",
    "    Ask a question to the model and save the question and answer to memory.\n",
    "    \"\"\"\n",
    "    query = generate_query_given_memory(question, memory)\n",
    "    response_test = send_query_to_model(query, model)\n",
    "    memory.append({\"question\": question, \"answer\": response_test})\n",
    "    print(response_test)\n",
    "    return query"
   ]
  },
  {
   "cell_type": "code",
   "execution_count": 76,
   "metadata": {},
   "outputs": [
    {
     "name": "stdout",
     "output_type": "stream",
     "text": [
      "Anxiety's causes are complex and varied.  It's not a simple answer.\n",
      "\n",
      "It could stem from stressful life events, like job loss or relationship problems. \n",
      "\n",
      "Underlying medical conditions, such as thyroid issues or vitamin deficiencies, can also contribute.\n",
      "\n",
      "Genetics play a role; some people are predisposed to anxiety.\n",
      "\n",
      "Personality traits, like perfectionism, can heighten anxiety levels.\n",
      "\n",
      "Past trauma can significantly impact your current emotional state.  \n",
      "\n",
      "Learning coping mechanisms through therapy or mindfulness practices can help manage anxiety.\n",
      "\n",
      "Consider speaking with a doctor or therapist to explore the root cause of your anxiety and develop a personalized treatment plan.\n",
      "\n"
     ]
    }
   ],
   "source": [
    "memory = []  # {question: ,answer:}\n",
    "query = ask_and_save_to_memory(question_1, model, memory)"
   ]
  },
  {
   "cell_type": "code",
   "execution_count": 77,
   "metadata": {},
   "outputs": [
    {
     "name": "stdout",
     "output_type": "stream",
     "text": [
      "\"How should I do?\" is too vague.  To give helpful advice, I need more context.\n",
      "\n",
      "What are you trying to do?  What's the specific task or challenge?\n",
      "\n",
      "Are you feeling anxious about it (as our previous conversation suggested)? If so, remember the coping mechanisms discussed: therapy, mindfulness, and addressing underlying medical concerns.\n",
      "\n",
      "Break down the task into smaller, manageable steps. Prioritize and focus on one step at a time.\n",
      "\n",
      "Celebrate small wins along the way to maintain momentum and reduce anxiety.  Be kind to yourself; progress, not perfection, is the goal.\n",
      "\n"
     ]
    },
    {
     "data": {
      "text/plain": [
       "\"Given the question: how should i do?\\nplease provide a detailed but constructive response within 150 words, breaks the line when it exceeds 10 wordsAnd based on the following conversation history:\\nQuestion: Why I feel anxious?\\nAnswer: Anxiety's causes are complex and varied.  It's not a simple answer.\\n\\nIt could stem from stressful life events, like job loss or relationship problems. \\n\\nUnderlying medical conditions, such as thyroid issues or vitamin deficiencies, can also contribute.\\n\\nGenetics play a role; some people are predisposed to anxiety.\\n\\nPersonality traits, like perfectionism, can heighten anxiety levels.\\n\\nPast trauma can significantly impact your current emotional state.  \\n\\nLearning coping mechanisms through therapy or mindfulness practices can help manage anxiety.\\n\\nConsider speaking with a doctor or therapist to explore the root cause of your anxiety and develop a personalized treatment plan.\\n\\n\""
      ]
     },
     "execution_count": 77,
     "metadata": {},
     "output_type": "execute_result"
    }
   ],
   "source": [
    "ask_and_save_to_memory(question_2, model, memory)"
   ]
  },
  {
   "cell_type": "code",
   "execution_count": 78,
   "metadata": {},
   "outputs": [
    {
     "name": "stdout",
     "output_type": "stream",
     "text": [
      "Self-care isn't selfish; it's essential.  It's proactively attending to your physical, mental, and emotional well-being.\n",
      "\n",
      "This involves  prioritizing activities that nourish you.\n",
      "\n",
      "Examples include adequate sleep, healthy eating,  regular exercise,  mindfulness practices like meditation,\n",
      "\n",
      "spending time in nature,  engaging in hobbies,  and maintaining healthy relationships.\n",
      "\n",
      "Crucially, self-care also means  setting boundaries, saying no to things that drain you,\n",
      "\n",
      "and seeking professional help when needed – just as we discussed regarding anxiety.\n",
      "It's about  preventative maintenance for a fulfilling life.\n",
      "\n"
     ]
    },
    {
     "data": {
      "text/plain": [
       "'Given the question: what is self-care?\\nplease provide a detailed but constructive response within 150 words, breaks the line when it exceeds 10 wordsAnd based on the following conversation history:\\nQuestion: Why I feel anxious?\\nAnswer: Anxiety\\'s causes are complex and varied.  It\\'s not a simple answer.\\n\\nIt could stem from stressful life events, like job loss or relationship problems. \\n\\nUnderlying medical conditions, such as thyroid issues or vitamin deficiencies, can also contribute.\\n\\nGenetics play a role; some people are predisposed to anxiety.\\n\\nPersonality traits, like perfectionism, can heighten anxiety levels.\\n\\nPast trauma can significantly impact your current emotional state.  \\n\\nLearning coping mechanisms through therapy or mindfulness practices can help manage anxiety.\\n\\nConsider speaking with a doctor or therapist to explore the root cause of your anxiety and develop a personalized treatment plan.\\n\\nQuestion: how should i do?\\nAnswer: \"How should I do?\" is too vague.  To give helpful advice, I need more context.\\n\\nWhat are you trying to do?  What\\'s the specific task or challenge?\\n\\nAre you feeling anxious about it (as our previous conversation suggested)? If so, remember the coping mechanisms discussed: therapy, mindfulness, and addressing underlying medical concerns.\\n\\nBreak down the task into smaller, manageable steps. Prioritize and focus on one step at a time.\\n\\nCelebrate small wins along the way to maintain momentum and reduce anxiety.  Be kind to yourself; progress, not perfection, is the goal.\\n\\n'"
      ]
     },
     "execution_count": 78,
     "metadata": {},
     "output_type": "execute_result"
    }
   ],
   "source": [
    "ask_and_save_to_memory(question_3, model, memory)"
   ]
  },
  {
   "cell_type": "markdown",
   "metadata": {},
   "source": [
    "# A better way"
   ]
  },
  {
   "cell_type": "code",
   "execution_count": 10,
   "metadata": {},
   "outputs": [],
   "source": [
    "def ask_and_save_history(\n",
    "    question: str, model: genai.GenerativeModel, history: list\n",
    ") -> str:\n",
    "    \"\"\"\n",
    "    Ask a question to the model and save the question and answer to history.\n",
    "    \"\"\"\n",
    "    history.append({\"role\": \"user\", \"parts\": question})\n",
    "    response = model.generate_content(history)\n",
    "    history.append({\"role\": \"model\", \"parts\": response.text})\n",
    "    print(response.text)"
   ]
  },
  {
   "cell_type": "code",
   "execution_count": 11,
   "metadata": {},
   "outputs": [
    {
     "name": "stdout",
     "output_type": "stream",
     "text": [
      "Anxiety is a complex emotion with many potential causes.  It's impossible for me to tell you *why* you feel anxious without knowing more about you and your experiences. However, I can offer some common reasons people experience anxiety:\n",
      "\n",
      "**Situational Factors:**\n",
      "\n",
      "* **Stressful life events:** Major life changes like job loss, relationship problems, financial difficulties, moving, or the death of a loved one can trigger anxiety.\n",
      "* **Specific situations:**  Public speaking, exams, social gatherings, or even driving can cause anxiety in some people.  This is often called social anxiety or performance anxiety.\n",
      "* **Trauma:** Past traumatic experiences can lead to long-term anxiety and PTSD.\n",
      "* **Current worries:**  Worrying excessively about the future, health, finances, or relationships can fuel anxiety.\n",
      "\n",
      "**Biological Factors:**\n",
      "\n",
      "* **Genetics:**  A family history of anxiety disorders can increase your risk.\n",
      "* **Brain chemistry:** Imbalances in neurotransmitters like serotonin and GABA can contribute to anxiety.\n",
      "* **Medical conditions:** Certain medical conditions, such as hyperthyroidism, heart problems, or asthma, can mimic or worsen anxiety symptoms.\n",
      "* **Substance use:**  Drugs and alcohol can trigger or worsen anxiety, even after stopping use.\n",
      "\n",
      "**Psychological Factors:**\n",
      "\n",
      "* **Negative thinking patterns:**  Catastrophizing (expecting the worst), overgeneralizing (drawing broad conclusions from single events), and all-or-nothing thinking can contribute to anxiety.\n",
      "* **Perfectionism:**  Setting unrealistically high standards for yourself can lead to constant worry and anxiety.\n",
      "* **Low self-esteem:**  Feeling inadequate or insecure can make you more vulnerable to anxiety.\n",
      "\n",
      "\n",
      "**If you're concerned about your anxiety, it's crucial to seek professional help.** A therapist or doctor can help you identify the underlying causes of your anxiety and develop coping strategies or treatment plans.  They can also rule out any underlying medical conditions.\n",
      "\n",
      "This information is for general knowledge and does not constitute medical advice.  Please consult a healthcare professional for diagnosis and treatment.\n",
      "\n"
     ]
    }
   ],
   "source": [
    "history = []  # {role: , parts: }\n",
    "\n",
    "ask_and_save_history(question_1, model, history)"
   ]
  },
  {
   "cell_type": "code",
   "execution_count": 12,
   "metadata": {},
   "outputs": [
    {
     "name": "stdout",
     "output_type": "stream",
     "text": [
      "That depends heavily on the severity and nature of your anxiety.  There's no one-size-fits-all answer, but here's a tiered approach:\n",
      "\n",
      "**Tier 1: Self-Help Strategies (for mild anxiety or as a supplement to professional help):**\n",
      "\n",
      "* **Identify your triggers:** Keep a journal to track when you feel anxious and what might have triggered it.  This helps you understand your anxiety patterns.\n",
      "* **Practice relaxation techniques:**  Deep breathing exercises, progressive muscle relaxation, mindfulness meditation, and yoga can help calm your nervous system.  There are many guided meditations available online or through apps.\n",
      "* **Regular exercise:** Physical activity releases endorphins, which have mood-boosting effects. Aim for at least 30 minutes of moderate-intensity exercise most days of the week.\n",
      "* **Healthy lifestyle:**  Get enough sleep (7-9 hours), eat a balanced diet, and limit caffeine and alcohol.  These substances can exacerbate anxiety.\n",
      "* **Challenge negative thoughts:**  When you notice anxious thoughts, try to challenge their validity. Are they based on facts or assumptions?  Can you reframe them in a more positive or realistic way?\n",
      "* **Time management:**  Feeling overwhelmed can increase anxiety.  Prioritize tasks, break down large projects into smaller steps, and learn to say no to commitments you can't handle.\n",
      "* **Social support:**  Connect with friends, family, or support groups. Talking about your feelings can be helpful.\n",
      "\n",
      "\n",
      "**Tier 2: Professional Help (for moderate to severe anxiety):**\n",
      "\n",
      "* **Talk to your doctor:**  They can rule out any underlying medical conditions and recommend appropriate treatment options.\n",
      "* **Therapy:**  A therapist can teach you coping mechanisms, help you identify and challenge negative thought patterns, and provide support.  Cognitive Behavioral Therapy (CBT) and other therapies are effective for anxiety.\n",
      "* **Medication:**  In some cases, medication may be necessary to manage anxiety symptoms.  Your doctor or psychiatrist can prescribe appropriate medication and monitor its effectiveness.\n",
      "\n",
      "\n",
      "**Tier 3: Emergency Care (for severe or debilitating anxiety):**\n",
      "\n",
      "* **Seek immediate help:** If you're experiencing a panic attack or feeling suicidal, contact emergency services or go to the nearest hospital immediately.\n",
      "\n",
      "\n",
      "**Which tier is right for you?**\n",
      "\n",
      "If your anxiety is interfering with your daily life, relationships, or work, it's crucial to seek\n"
     ]
    }
   ],
   "source": [
    "ask_and_save_history(question_2, model, history)"
   ]
  },
  {
   "cell_type": "code",
   "execution_count": 13,
   "metadata": {},
   "outputs": [
    {
     "name": "stdout",
     "output_type": "stream",
     "text": [
      "Self-care is any activity that we do deliberately in order to take care of our mental, emotional, and physical health.  It's about prioritizing your well-being and engaging in activities that help you feel good and function optimally.  It's not selfish; it's essential for maintaining a healthy and balanced life.\n",
      "\n",
      "Self-care isn't just about bubble baths and face masks (though those can be part of it!), it encompasses a wide range of activities, and what constitutes self-care varies greatly from person to person.  It's about identifying what *you* need to feel your best and making time for it.\n",
      "\n",
      "Here are some examples of self-care activities, categorized for clarity:\n",
      "\n",
      "**Physical Self-Care:**\n",
      "\n",
      "* **Exercise:**  Any physical activity you enjoy, from yoga and running to dancing or gardening.\n",
      "* **Healthy eating:**  Nourishing your body with nutritious foods.\n",
      "* **Sleep:**  Getting enough quality sleep.\n",
      "* **Hygiene:**  Showering, brushing your teeth, etc. – the basics that contribute to feeling good physically.\n",
      "* **Medical care:**  Regular check-ups and addressing health concerns promptly.\n",
      "\n",
      "**Mental Self-Care:**\n",
      "\n",
      "* **Mindfulness and meditation:**  Practicing mindfulness to be present in the moment and reduce stress.\n",
      "* **Journaling:**  Writing down your thoughts and feelings.\n",
      "* **Reading:**  Escaping into a good book.\n",
      "* **Learning new things:**  Expanding your knowledge and skills.\n",
      "* **Setting boundaries:**  Saying no to things you don't want to do.\n",
      "* **Digital detox:**  Taking breaks from technology.\n",
      "\n",
      "**Emotional Self-Care:**\n",
      "\n",
      "* **Spending time in nature:**  Connecting with the natural world.\n",
      "* **Creative expression:**  Engaging in activities like painting, music, or writing.\n",
      "* **Connecting with loved ones:**  Spending quality time with people who support you.\n",
      "* **Therapy or counseling:**  Seeking professional help to address emotional challenges.\n",
      "* **Practicing gratitude:**  Focusing on the positive aspects of your life.\n",
      "* **Forgiveness:**  Letting go of resentment and anger.\n",
      "\n",
      "**Spiritual Self-Care (if applicable):**\n",
      "\n",
      "* **Prayer or meditation:**  Connecting with your spirituality.\n",
      "* **Spending time in nature:**  Connecting with something larger than yourself.\n",
      "* **Acts of service:**  Helping others\n"
     ]
    }
   ],
   "source": [
    "ask_and_save_history(question_3, model, history)"
   ]
  },
  {
   "cell_type": "markdown",
   "metadata": {},
   "source": [
    "# Gemini Suggest Way"
   ]
  },
  {
   "cell_type": "code",
   "execution_count": 15,
   "metadata": {},
   "outputs": [],
   "source": [
    "def send_chat_message(message: str, chat: genai.GenerativeModel.start_chat):\n",
    "    \"\"\"\n",
    "    Send a chat message to the model and print the response.\n",
    "    \"\"\"\n",
    "    response = chat.send_message(message)\n",
    "    print(response.text)"
   ]
  },
  {
   "cell_type": "code",
   "execution_count": 14,
   "metadata": {},
   "outputs": [],
   "source": [
    "history = None\n",
    "chat = model.start_chat(history=history)"
   ]
  },
  {
   "cell_type": "code",
   "execution_count": 16,
   "metadata": {},
   "outputs": [
    {
     "name": "stdout",
     "output_type": "stream",
     "text": [
      "Anxiety is a complex emotion with many potential causes.  It's impossible for me to tell you *why* you feel anxious without knowing more about you and your experiences. However, here are some common reasons people experience anxiety:\n",
      "\n",
      "**Situational Factors:**\n",
      "\n",
      "* **Stressful life events:** Major life changes like job loss, relationship problems, financial difficulties, moving, or the death of a loved one can trigger anxiety.\n",
      "* **Specific situations:**  Public speaking, exams, social gatherings, or even driving can cause anxiety in some people.  This is often called social anxiety or performance anxiety.\n",
      "* **Trauma:** Past traumatic experiences can lead to long-term anxiety and PTSD.\n",
      "* **Current worries:**  Worrying excessively about the future, health, finances, or relationships can fuel anxiety.\n",
      "\n",
      "**Biological Factors:**\n",
      "\n",
      "* **Genetics:**  A family history of anxiety disorders can increase your risk.\n",
      "* **Brain chemistry:** Imbalances in neurotransmitters like serotonin and GABA can contribute to anxiety.\n",
      "* **Medical conditions:** Certain medical conditions, such as hyperthyroidism, heart problems, or respiratory issues, can mimic or worsen anxiety symptoms.\n",
      "* **Substance use:**  Drugs and alcohol can trigger or exacerbate anxiety.\n",
      "\n",
      "**Psychological Factors:**\n",
      "\n",
      "* **Negative thinking patterns:**  Catastrophizing (expecting the worst), overgeneralizing (drawing broad conclusions from single events), and all-or-nothing thinking can fuel anxiety.\n",
      "* **Perfectionism:**  Setting unrealistically high standards for yourself can lead to constant worry and anxiety.\n",
      "* **Low self-esteem:**  Feeling inadequate or insecure can increase vulnerability to anxiety.\n",
      "\n",
      "\n",
      "**If you're concerned about your anxiety:**\n",
      "\n",
      "It's crucial to talk to a healthcare professional, such as a doctor or therapist. They can help you identify the underlying cause of your anxiety and recommend appropriate treatment options.  These might include:\n",
      "\n",
      "* **Therapy:** Cognitive Behavioral Therapy (CBT) and other therapies are highly effective in managing anxiety.\n",
      "* **Medication:** In some cases, medication can be helpful in reducing anxiety symptoms.\n",
      "* **Lifestyle changes:**  Regular exercise, a healthy diet, sufficient sleep, and stress-reduction techniques like mindfulness or yoga can significantly improve anxiety.\n",
      "\n",
      "\n",
      "This information is for general knowledge and does not constitute medical advice.  Please seek professional help if you are struggling with anxiety.\n",
      "\n"
     ]
    }
   ],
   "source": [
    "send_chat_message(question_1, chat)"
   ]
  },
  {
   "cell_type": "code",
   "execution_count": 17,
   "metadata": {},
   "outputs": [
    {
     "name": "stdout",
     "output_type": "stream",
     "text": [
      "That depends heavily on the severity and nature of your anxiety.  Since I can't diagnose or treat medical conditions, my advice is limited to general self-help strategies and urging you to seek professional help.  Here's a breakdown of what you should do, categorized by level of action:\n",
      "\n",
      "**Immediate Actions (If you're experiencing a severe anxiety attack):**\n",
      "\n",
      "* **Practice grounding techniques:** Focus on your senses.  Name five things you can see, four things you can touch, three things you can hear, two things you can smell, and one thing you can taste.  This helps bring you back to the present moment.\n",
      "* **Deep breathing exercises:** Slow, deep breaths can help calm your nervous system.  Try inhaling deeply through your nose, holding for a few seconds, and exhaling slowly through your mouth.\n",
      "* **Find a safe space:** Go somewhere quiet and comfortable where you feel safe and secure.\n",
      "* **Call for help:** If you're feeling overwhelmed, contact a friend, family member, or crisis hotline.\n",
      "\n",
      "**Short-Term Actions (For managing daily anxiety):**\n",
      "\n",
      "* **Identify your triggers:** Keep a journal to track when and why you feel anxious.  This can help you identify patterns and potential triggers.\n",
      "* **Challenge negative thoughts:** When you notice anxious thoughts, try to challenge their validity.  Are they based on facts or assumptions?\n",
      "* **Practice relaxation techniques:**  Explore techniques like progressive muscle relaxation, meditation, or mindfulness.  There are many guided meditations available online or through apps.\n",
      "* **Engage in enjoyable activities:** Make time for hobbies and activities that you find relaxing and enjoyable.\n",
      "* **Get regular exercise:** Physical activity is a great way to reduce stress and improve mood.\n",
      "* **Maintain a healthy lifestyle:**  Eat a balanced diet, get enough sleep, and limit caffeine and alcohol.\n",
      "\n",
      "**Long-Term Actions (For sustained improvement):**\n",
      "\n",
      "* **Seek professional help:** This is the most important step.  A therapist can help you develop coping mechanisms, address underlying issues, and potentially recommend medication if necessary.  Consider a therapist specializing in anxiety disorders, such as a Cognitive Behavioral Therapist (CBT therapist).\n",
      "* **Consider medication:**  Your doctor can assess whether medication might be beneficial in conjunction with therapy.\n",
      "* **Join a support group:** Connecting with others who understand what you're going through can be incredibly helpful.\n",
      "\n",
      "\n",
      "**Where\n"
     ]
    }
   ],
   "source": [
    "send_chat_message(question_2, chat)"
   ]
  },
  {
   "cell_type": "code",
   "execution_count": 18,
   "metadata": {},
   "outputs": [
    {
     "name": "stdout",
     "output_type": "stream",
     "text": [
      "Self-care is any activity that we do deliberately in order to take care of our mental, emotional, and physical health.  It's about prioritizing your well-being and making conscious choices to support your overall health and happiness.  It's not selfish; it's essential for functioning effectively in all areas of your life.\n",
      "\n",
      "Self-care isn't just about bubble baths and face masks (though those can be part of it!), it encompasses a wide range of activities and practices.  It's about understanding your individual needs and taking steps to meet them.  These needs can vary greatly from person to person and even change from day to day.\n",
      "\n",
      "Here are some examples of self-care activities, categorized for clarity:\n",
      "\n",
      "**Physical Self-Care:**\n",
      "\n",
      "* **Nutrition:** Eating a balanced diet, staying hydrated, and limiting processed foods and excessive sugar.\n",
      "* **Sleep:** Getting enough quality sleep (7-9 hours for most adults).\n",
      "* **Exercise:** Engaging in regular physical activity, whether it's a brisk walk, a workout, or dancing.\n",
      "* **Hygiene:** Showering, brushing your teeth, and maintaining personal cleanliness.\n",
      "* **Medical care:**  Regular check-ups, taking prescribed medications, and addressing health concerns promptly.\n",
      "\n",
      "**Mental Self-Care:**\n",
      "\n",
      "* **Mindfulness and meditation:** Practicing mindfulness to stay present and reduce stress.\n",
      "* **Journaling:** Writing down thoughts and feelings to process emotions.\n",
      "* **Reading:** Engaging in activities that stimulate your mind and provide enjoyment.\n",
      "* **Learning new skills:**  Taking a class, learning a new language, or pursuing a hobby.\n",
      "* **Setting boundaries:** Saying no to things that drain your energy or compromise your well-being.\n",
      "* **Digital detox:** Taking breaks from screens and social media.\n",
      "\n",
      "**Emotional Self-Care:**\n",
      "\n",
      "* **Spending time in nature:** Connecting with the natural world can be incredibly calming and restorative.\n",
      "* **Connecting with loved ones:** Spending quality time with supportive friends and family.\n",
      "* **Creative expression:** Engaging in activities like painting, writing, music, or dance.\n",
      "* **Therapy or counseling:** Seeking professional help to address emotional challenges.\n",
      "* **Practicing gratitude:** Focusing on the positive aspects of your life.\n",
      "* **Forgiveness:** Letting go of resentment and anger.\n",
      "\n",
      "**Spiritual Self-Care (if applicable):**\n",
      "\n",
      "* **Prayer or meditation:** Connecting with\n"
     ]
    }
   ],
   "source": [
    "send_chat_message(question_3, chat)"
   ]
  },
  {
   "cell_type": "code",
   "execution_count": null,
   "metadata": {},
   "outputs": [],
   "source": []
  }
 ],
 "metadata": {
  "kernelspec": {
   "display_name": "llm5d",
   "language": "python",
   "name": "python3"
  },
  "language_info": {
   "codemirror_mode": {
    "name": "ipython",
    "version": 3
   },
   "file_extension": ".py",
   "mimetype": "text/x-python",
   "name": "python",
   "nbconvert_exporter": "python",
   "pygments_lexer": "ipython3",
   "version": "3.13.1"
  }
 },
 "nbformat": 4,
 "nbformat_minor": 2
}
