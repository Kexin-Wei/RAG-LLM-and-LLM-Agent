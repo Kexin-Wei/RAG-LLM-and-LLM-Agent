{
 "cells": [
  {
   "cell_type": "markdown",
   "metadata": {},
   "source": [
    "# ReAct but with LangGraph"
   ]
  },
  {
   "cell_type": "code",
   "execution_count": 1,
   "metadata": {},
   "outputs": [],
   "source": [
    "%load_ext autoreload\n",
    "%autoreload 2"
   ]
  },
  {
   "cell_type": "code",
   "execution_count": 2,
   "metadata": {},
   "outputs": [],
   "source": [
    "# libraries\n",
    "import getpass\n",
    "import os\n",
    "import json\n",
    "\n",
    "if not os.environ.get(\"OPENAI_API_KEY\"):\n",
    "    os.environ[\"OPENAI_API_KEY\"] = getpass.getpass(\"Enter API key for OpenAI: \")\n",
    "\n",
    "from langchain_openai import ChatOpenAI\n",
    "from langchain_core.messages import (\n",
    "    AnyMessage,\n",
    "    SystemMessage,\n",
    "    HumanMessage,\n",
    "    ToolMessage,\n",
    "    AIMessage,\n",
    ")"
   ]
  },
  {
   "cell_type": "markdown",
   "metadata": {},
   "source": [
    "# Test Connection"
   ]
  },
  {
   "cell_type": "code",
   "execution_count": 3,
   "metadata": {},
   "outputs": [],
   "source": [
    "model = ChatOpenAI(model=\"gpt-3.5-turbo\")\n",
    "message = [\n",
    "    SystemMessage(content=\"Translate the following from English to German\"),\n",
    "    HumanMessage(\"Hello world!\"),\n",
    "]\n",
    "result = model.invoke(message)"
   ]
  },
  {
   "cell_type": "code",
   "execution_count": 4,
   "metadata": {},
   "outputs": [
    {
     "data": {
      "text/plain": [
       "'Hallo Welt!'"
      ]
     },
     "execution_count": 4,
     "metadata": {},
     "output_type": "execute_result"
    }
   ],
   "source": [
    "result.content"
   ]
  },
  {
   "cell_type": "markdown",
   "metadata": {},
   "source": [
    "# Tools"
   ]
  },
  {
   "cell_type": "code",
   "execution_count": 5,
   "metadata": {},
   "outputs": [],
   "source": [
    "import wikipedia\n",
    "\n",
    "from langchain.tools import Tool\n",
    "from langchain_core.tools import tool\n",
    "\n",
    "\n",
    "# tools = [\n",
    "#     Tool(\n",
    "#         name=\"search_wikipedia_pages\",\n",
    "#         description=(\n",
    "#             \"Search for Wikipedia pages based on a query. \"\n",
    "#             \"Input should be a search query string\"\n",
    "#         ),\n",
    "#         func=lambda query: wikipedia.search(query),\n",
    "#     ),\n",
    "#     Tool(\n",
    "#         name=\"get_wikipedia_page_summary\",\n",
    "#         description=(\n",
    "#             \"Get the summary of a Wikipedia page. \"\n",
    "#             \"Input should be a page title as string \"\n",
    "#             \"and how many sentences the result should be as a number\"\n",
    "#         ),\n",
    "#         func=lambda x: wikipedia.summary(**eval(x) if isinstance(x, str) else x),\n",
    "#     ),\n",
    "#     Tool(\n",
    "#         name=\"get_wikipedia_page_content\",\n",
    "#         description=\"Get the full content of a Wikipedia page. Input should be the title of the Wikipedia page.\",\n",
    "#         func=lambda title: wikipedia.page(title).content,\n",
    "#     ),\n",
    "# ]\n",
    "@tool\n",
    "def search_wikipedia_pages(query: str) -> str:\n",
    "    \"\"\"Search for Wikipedia pages based on a query. Input should be a search query string.\"\"\"\n",
    "    return wikipedia.search(query)\n",
    "\n",
    "\n",
    "@tool\n",
    "def get_wikipedia_page_summary(title: str, sentences: int = 2) -> str:\n",
    "    \"\"\"Get the summary of a Wikipedia page. Input should be a page title as string and how many sentences the result should be as a number.\"\"\"\n",
    "    return wikipedia.summary(title, sentences=sentences)\n",
    "\n",
    "\n",
    "@tool\n",
    "def get_wikipedia_page_content(title: str) -> str:\n",
    "    \"\"\"Get the full content of a Wikipedia page. Input should be the title of the Wikipedia page.\"\"\"\n",
    "    return wikipedia.page(title).content\n",
    "\n",
    "\n",
    "tools = [search_wikipedia_pages, get_wikipedia_page_summary, get_wikipedia_page_content]\n",
    "\n",
    "tool_names = [tool.name for tool in tools]"
   ]
  },
  {
   "cell_type": "markdown",
   "metadata": {},
   "source": [
    "# Agent"
   ]
  },
  {
   "cell_type": "code",
   "execution_count": null,
   "metadata": {},
   "outputs": [],
   "source": [
    "from langgraph.prebuilt import create_react_agent\n",
    "from langgraph.checkpoint.memory import MemorySaver\n",
    "\n",
    "# model = ChatOpenAI(model=\"gpt-4o\")\n",
    "agent = create_react_agent(\n",
    "    model=model,\n",
    "    tools=tools,\n",
    "    checkpointer=MemorySaver(),\n",
    "    # state_modifier=prompt,\n",
    ")\n",
    "\n",
    "\n",
    "def ask_agent(content):\n",
    "    input = {\n",
    "        \"messages\": [HumanMessage(content=content)],\n",
    "    }\n",
    "    for s in agent.stream(\n",
    "        input,\n",
    "        stream_mode=\"values\",\n",
    "        config={\n",
    "            \"configurable\": {\"thread_id\": \"thread-1\"},\n",
    "        },\n",
    "    ):\n",
    "        message = s[\"messages\"][-1]\n",
    "        if isinstance(message, tuple):\n",
    "            print(message)\n",
    "        else:\n",
    "            message.pretty_print()"
   ]
  },
  {
   "cell_type": "code",
   "execution_count": 9,
   "metadata": {},
   "outputs": [
    {
     "name": "stdout",
     "output_type": "stream",
     "text": [
      "================================\u001b[1m Human Message \u001b[0m=================================\n",
      "\n",
      "Can give me a summary of AI in wikipedia?\n",
      "==================================\u001b[1m Ai Message \u001b[0m==================================\n",
      "Tool Calls:\n",
      "  search_wikipedia_pages (call_RzQkoyt6ZbfnHY3ADy5VUwDJ)\n",
      " Call ID: call_RzQkoyt6ZbfnHY3ADy5VUwDJ\n",
      "  Args:\n",
      "    query: Artificial Intelligence\n",
      "=================================\u001b[1m Tool Message \u001b[0m=================================\n",
      "Name: search_wikipedia_pages\n",
      "\n",
      "[\"Artificial intelligence\", \"Artificial general intelligence\", \"A.I. Artificial Intelligence\", \"Ethics of artificial intelligence\", \"Applications of artificial intelligence\", \"Artificial intelligence in healthcare\", \"History of artificial intelligence\", \"Hallucination (artificial intelligence)\", \"Generative artificial intelligence\", \"Artificial intelligence art\"]\n",
      "==================================\u001b[1m Ai Message \u001b[0m==================================\n",
      "Tool Calls:\n",
      "  get_wikipedia_page_summary (call_xLqj18rD0OMf3Bk3ZNcAQZIX)\n",
      " Call ID: call_xLqj18rD0OMf3Bk3ZNcAQZIX\n",
      "  Args:\n",
      "    title: Artificial intelligence\n",
      "    sentences: 3\n",
      "=================================\u001b[1m Tool Message \u001b[0m=================================\n",
      "Name: get_wikipedia_page_summary\n",
      "\n",
      "Artificial intelligence (AI), in its broadest sense, is intelligence exhibited by machines, particularly computer systems. It is a field of research in computer science that develops and studies methods and software that enable machines to perceive their environment and use learning and intelligence to take actions that maximize their chances of achieving defined goals. Such machines may be called AIs.\n",
      "==================================\u001b[1m Ai Message \u001b[0m==================================\n",
      "\n",
      "The summary of Artificial Intelligence (AI) from Wikipedia is: AI, in its broadest sense, is intelligence exhibited by machines, particularly computer systems. It is a field of research in computer science that develops methods and software enabling machines to perceive their environment, use learning and intelligence to take actions, and maximize their chances of achieving defined goals.\n"
     ]
    }
   ],
   "source": [
    "question_1 = \"Can give me a summary of AI in wikipedia?\"\n",
    "ask_agent(question_1)"
   ]
  },
  {
   "cell_type": "code",
   "execution_count": 10,
   "metadata": {},
   "outputs": [
    {
     "name": "stdout",
     "output_type": "stream",
     "text": [
      "================================\u001b[1m Human Message \u001b[0m=================================\n",
      "\n",
      "Is there a page about Maria?\n",
      "==================================\u001b[1m Ai Message \u001b[0m==================================\n",
      "Tool Calls:\n",
      "  search_wikipedia_pages (call_AHqNH4wowfOQRK7zE7OYoU7k)\n",
      " Call ID: call_AHqNH4wowfOQRK7zE7OYoU7k\n",
      "  Args:\n",
      "    query: Maria\n",
      "=================================\u001b[1m Tool Message \u001b[0m=================================\n",
      "Name: search_wikipedia_pages\n",
      "\n",
      "[\"Maria\", \"Mai Mizuhashi\", \"Maria Maria\", \"Maria Callas\", \"Maria Theresa\", \"The Marías\", \"Maria Christina\", \"Maria Rodriguez\", \"Maria (2024 film)\", \"Infanta Maria Josepha of Portugal\"]\n",
      "==================================\u001b[1m Ai Message \u001b[0m==================================\n",
      "\n",
      "There are multiple pages related to \"Maria\" on Wikipedia. Could you please specify which Maria you are referring to so I can provide more information about the specific page?\n"
     ]
    }
   ],
   "source": [
    "question_2 = \"Is there a page about Maria?\"\n",
    "ask_agent(question_2)"
   ]
  },
  {
   "cell_type": "code",
   "execution_count": 11,
   "metadata": {},
   "outputs": [
    {
     "name": "stdout",
     "output_type": "stream",
     "text": [
      "================================\u001b[1m Human Message \u001b[0m=================================\n",
      "\n",
      "Can you show me what are the example?\n",
      "==================================\u001b[1m Ai Message \u001b[0m==================================\n",
      "Tool Calls:\n",
      "  get_wikipedia_page_summary (call_pIW059Zyy9mTM0ECtsTYGbxn)\n",
      " Call ID: call_pIW059Zyy9mTM0ECtsTYGbxn\n",
      "  Args:\n",
      "    title: Maria\n",
      "    sentences: 2\n",
      "  get_wikipedia_page_summary (call_LaZrtXgrjJjY0s4oftpGYVNP)\n",
      " Call ID: call_LaZrtXgrjJjY0s4oftpGYVNP\n",
      "  Args:\n",
      "    title: Mai Mizuhashi\n",
      "    sentences: 2\n",
      "  get_wikipedia_page_summary (call_cvK08xEaPn72Dfltr2JDhHqw)\n",
      " Call ID: call_cvK08xEaPn72Dfltr2JDhHqw\n",
      "  Args:\n",
      "    title: Maria Maria\n",
      "    sentences: 2\n"
     ]
    },
    {
     "name": "stderr",
     "output_type": "stream",
     "text": [
      "d:\\Projects\\aisg-5-day-ai-agent\\.venv\\Lib\\site-packages\\wikipedia\\wikipedia.py:389: GuessedAtParserWarning: No parser was explicitly specified, so I'm using the best available HTML parser for this system (\"html.parser\"). This usually isn't a problem, but if you run this code on another system, or in a different virtual environment, it may use a different parser and behave differently.\n",
      "\n",
      "The code that caused this warning is on line 389 of the file d:\\Projects\\aisg-5-day-ai-agent\\.venv\\Lib\\site-packages\\wikipedia\\wikipedia.py. To get rid of this warning, pass the additional argument 'features=\"html.parser\"' to the BeautifulSoup constructor.\n",
      "\n",
      "  lis = BeautifulSoup(html).find_all('li')\n"
     ]
    },
    {
     "name": "stdout",
     "output_type": "stream",
     "text": [
      "=================================\u001b[1m Tool Message \u001b[0m=================================\n",
      "Name: get_wikipedia_page_summary\n",
      "\n",
      "\"Maria Maria\" is a song by American rock band Santana featuring the Product G&B, included on Santana's 18th studio album, Supernatural (1999). The song was written by Wyclef Jean, Jerry \"Wonda\" Duplessis, Carlos Santana, Karl Perazzo, and Raul Rekow, while Jean and Duplessis produced it.\n",
      "==================================\u001b[1m Ai Message \u001b[0m==================================\n",
      "\n",
      "Here are some examples of pages related to \"Maria\" on Wikipedia:\n",
      "\n",
      "1. **Maria**: This seems to be a disambiguation page with multiple entries related to individuals, places, and other topics named Maria.\n",
      "2. **Mai Mizuhashi**: Also known by her stage name MARiA, she is a Japanese pop singer, songwriter, dancer, model, and costume designer.\n",
      "3. **Maria Maria**: A song by American rock band Santana featuring the Product G&B, included in Santana's 18th studio album, Supernatural (1999).\n"
     ]
    }
   ],
   "source": [
    "question_3 = \"Can you show me what are the example?\"\n",
    "ask_agent(question_3)"
   ]
  }
 ],
 "metadata": {
  "kernelspec": {
   "display_name": ".venv",
   "language": "python",
   "name": "python3"
  },
  "language_info": {
   "codemirror_mode": {
    "name": "ipython",
    "version": 3
   },
   "file_extension": ".py",
   "mimetype": "text/x-python",
   "name": "python",
   "nbconvert_exporter": "python",
   "pygments_lexer": "ipython3",
   "version": "3.12.6"
  }
 },
 "nbformat": 4,
 "nbformat_minor": 2
}
